{
 "cells": [
  {
   "cell_type": "markdown",
   "metadata": {},
   "source": [
    "# Import packages"
   ]
  },
  {
   "cell_type": "code",
   "execution_count": 1,
   "metadata": {},
   "outputs": [],
   "source": [
    "import os\n",
    "import pandas as pd\n",
    "from src import features\n",
    "from src import database\n",
    "import yfinance as yf\n",
    "\n",
    "from dotenv import load_dotenv\n",
    "\n",
    "# Load environment variables from the .env file\n",
    "load_dotenv()\n",
    "ROOT_DIR = os.getenv('ROOT_DIR')"
   ]
  },
  {
   "cell_type": "markdown",
   "metadata": {},
   "source": [
    "# Load dataset"
   ]
  },
  {
   "cell_type": "code",
   "execution_count": 2,
   "metadata": {},
   "outputs": [],
   "source": [
    "# Build the full path to the CSV file\n",
    "csv_file_path = os.path.join(ROOT_DIR, 'app', 'backend', 'transaction.csv')\n",
    "\n",
    "# Load the CSV file into a pandas DataFrame\n",
    "df = pd.read_csv(csv_file_path)"
   ]
  },
  {
   "cell_type": "code",
   "execution_count": 3,
   "metadata": {},
   "outputs": [
    {
     "data": {
      "text/html": [
       "<div>\n",
       "<style scoped>\n",
       "    .dataframe tbody tr th:only-of-type {\n",
       "        vertical-align: middle;\n",
       "    }\n",
       "\n",
       "    .dataframe tbody tr th {\n",
       "        vertical-align: top;\n",
       "    }\n",
       "\n",
       "    .dataframe thead th {\n",
       "        text-align: right;\n",
       "    }\n",
       "</style>\n",
       "<table border=\"1\" class=\"dataframe\">\n",
       "  <thead>\n",
       "    <tr style=\"text-align: right;\">\n",
       "      <th></th>\n",
       "      <th>id</th>\n",
       "      <th>isinId</th>\n",
       "      <th>brokerId</th>\n",
       "      <th>accountId</th>\n",
       "      <th>date</th>\n",
       "      <th>orderId</th>\n",
       "      <th>quantity</th>\n",
       "      <th>unitPrice</th>\n",
       "    </tr>\n",
       "  </thead>\n",
       "  <tbody>\n",
       "    <tr>\n",
       "      <th>0</th>\n",
       "      <td>1</td>\n",
       "      <td>1</td>\n",
       "      <td>1</td>\n",
       "      <td>1</td>\n",
       "      <td>2023-10-16</td>\n",
       "      <td>1</td>\n",
       "      <td>2.0</td>\n",
       "      <td>652.06</td>\n",
       "    </tr>\n",
       "    <tr>\n",
       "      <th>1</th>\n",
       "      <td>2</td>\n",
       "      <td>3</td>\n",
       "      <td>1</td>\n",
       "      <td>2</td>\n",
       "      <td>2023-10-16</td>\n",
       "      <td>1</td>\n",
       "      <td>15.0</td>\n",
       "      <td>130.30</td>\n",
       "    </tr>\n",
       "    <tr>\n",
       "      <th>2</th>\n",
       "      <td>3</td>\n",
       "      <td>3</td>\n",
       "      <td>1</td>\n",
       "      <td>2</td>\n",
       "      <td>2023-10-24</td>\n",
       "      <td>1</td>\n",
       "      <td>1.0</td>\n",
       "      <td>126.95</td>\n",
       "    </tr>\n",
       "    <tr>\n",
       "      <th>3</th>\n",
       "      <td>4</td>\n",
       "      <td>1</td>\n",
       "      <td>1</td>\n",
       "      <td>1</td>\n",
       "      <td>2023-10-24</td>\n",
       "      <td>1</td>\n",
       "      <td>1.0</td>\n",
       "      <td>626.81</td>\n",
       "    </tr>\n",
       "    <tr>\n",
       "      <th>4</th>\n",
       "      <td>5</td>\n",
       "      <td>3</td>\n",
       "      <td>1</td>\n",
       "      <td>2</td>\n",
       "      <td>2023-11-13</td>\n",
       "      <td>1</td>\n",
       "      <td>1.0</td>\n",
       "      <td>131.87</td>\n",
       "    </tr>\n",
       "  </tbody>\n",
       "</table>\n",
       "</div>"
      ],
      "text/plain": [
       "   id  isinId  brokerId  accountId        date  orderId  quantity  unitPrice\n",
       "0   1       1         1          1  2023-10-16        1       2.0     652.06\n",
       "1   2       3         1          2  2023-10-16        1      15.0     130.30\n",
       "2   3       3         1          2  2023-10-24        1       1.0     126.95\n",
       "3   4       1         1          1  2023-10-24        1       1.0     626.81\n",
       "4   5       3         1          2  2023-11-13        1       1.0     131.87"
      ]
     },
     "execution_count": 3,
     "metadata": {},
     "output_type": "execute_result"
    }
   ],
   "source": [
    "df.head()"
   ]
  },
  {
   "cell_type": "markdown",
   "metadata": {},
   "source": [
    "# Add features"
   ]
  },
  {
   "cell_type": "code",
   "execution_count": 4,
   "metadata": {},
   "outputs": [
    {
     "data": {
      "text/html": [
       "<div>\n",
       "<style scoped>\n",
       "    .dataframe tbody tr th:only-of-type {\n",
       "        vertical-align: middle;\n",
       "    }\n",
       "\n",
       "    .dataframe tbody tr th {\n",
       "        vertical-align: top;\n",
       "    }\n",
       "\n",
       "    .dataframe thead th {\n",
       "        text-align: right;\n",
       "    }\n",
       "</style>\n",
       "<table border=\"1\" class=\"dataframe\">\n",
       "  <thead>\n",
       "    <tr style=\"text-align: right;\">\n",
       "      <th></th>\n",
       "      <th>id</th>\n",
       "      <th>isinId</th>\n",
       "      <th>brokerId</th>\n",
       "      <th>accountId</th>\n",
       "      <th>date</th>\n",
       "      <th>orderId</th>\n",
       "      <th>quantity</th>\n",
       "      <th>unitPrice</th>\n",
       "      <th>total</th>\n",
       "    </tr>\n",
       "  </thead>\n",
       "  <tbody>\n",
       "    <tr>\n",
       "      <th>0</th>\n",
       "      <td>1</td>\n",
       "      <td>1</td>\n",
       "      <td>1</td>\n",
       "      <td>1</td>\n",
       "      <td>2023-10-16</td>\n",
       "      <td>1</td>\n",
       "      <td>2.0</td>\n",
       "      <td>652.06</td>\n",
       "      <td>1304.12</td>\n",
       "    </tr>\n",
       "    <tr>\n",
       "      <th>1</th>\n",
       "      <td>2</td>\n",
       "      <td>3</td>\n",
       "      <td>1</td>\n",
       "      <td>2</td>\n",
       "      <td>2023-10-16</td>\n",
       "      <td>1</td>\n",
       "      <td>15.0</td>\n",
       "      <td>130.30</td>\n",
       "      <td>1954.50</td>\n",
       "    </tr>\n",
       "    <tr>\n",
       "      <th>2</th>\n",
       "      <td>3</td>\n",
       "      <td>3</td>\n",
       "      <td>1</td>\n",
       "      <td>2</td>\n",
       "      <td>2023-10-24</td>\n",
       "      <td>1</td>\n",
       "      <td>1.0</td>\n",
       "      <td>126.95</td>\n",
       "      <td>126.95</td>\n",
       "    </tr>\n",
       "    <tr>\n",
       "      <th>3</th>\n",
       "      <td>4</td>\n",
       "      <td>1</td>\n",
       "      <td>1</td>\n",
       "      <td>1</td>\n",
       "      <td>2023-10-24</td>\n",
       "      <td>1</td>\n",
       "      <td>1.0</td>\n",
       "      <td>626.81</td>\n",
       "      <td>626.81</td>\n",
       "    </tr>\n",
       "    <tr>\n",
       "      <th>4</th>\n",
       "      <td>5</td>\n",
       "      <td>3</td>\n",
       "      <td>1</td>\n",
       "      <td>2</td>\n",
       "      <td>2023-11-13</td>\n",
       "      <td>1</td>\n",
       "      <td>1.0</td>\n",
       "      <td>131.87</td>\n",
       "      <td>131.87</td>\n",
       "    </tr>\n",
       "  </tbody>\n",
       "</table>\n",
       "</div>"
      ],
      "text/plain": [
       "   id  isinId  brokerId  accountId        date  orderId  quantity  unitPrice  \\\n",
       "0   1       1         1          1  2023-10-16        1       2.0     652.06   \n",
       "1   2       3         1          2  2023-10-16        1      15.0     130.30   \n",
       "2   3       3         1          2  2023-10-24        1       1.0     126.95   \n",
       "3   4       1         1          1  2023-10-24        1       1.0     626.81   \n",
       "4   5       3         1          2  2023-11-13        1       1.0     131.87   \n",
       "\n",
       "     total  \n",
       "0  1304.12  \n",
       "1  1954.50  \n",
       "2   126.95  \n",
       "3   626.81  \n",
       "4   131.87  "
      ]
     },
     "execution_count": 4,
     "metadata": {},
     "output_type": "execute_result"
    }
   ],
   "source": [
    "df_features = features.add_column_total(df)\n",
    "df_features.head()"
   ]
  },
  {
   "cell_type": "code",
   "execution_count": 5,
   "metadata": {},
   "outputs": [
    {
     "data": {
      "text/plain": [
       "1550.27"
      ]
     },
     "execution_count": 5,
     "metadata": {},
     "output_type": "execute_result"
    }
   ],
   "source": [
    "ticker_symbol = 'MKL'  # Replace with the actual ticker symbol corresponding to the ISIN\n",
    "\n",
    "# Fetching the stock data using yfinance\n",
    "stock = yf.Ticker(ticker_symbol)\n",
    "\n",
    "# Get the current price\n",
    "current_price = stock.info['previousClose']\n",
    "current_price"
   ]
  },
  {
   "cell_type": "markdown",
   "metadata": {},
   "source": [
    "# Database"
   ]
  },
  {
   "cell_type": "code",
   "execution_count": 7,
   "metadata": {},
   "outputs": [],
   "source": [
    "# Create database from csv\n",
    "database.create_from_csv(\n",
    "    os.path.join(ROOT_DIR, 'app', 'backend', 'transaction.csv'),\n",
    "    os.path.join(ROOT_DIR, 'app', 'backend', 'database.db')\n",
    ")"
   ]
  },
  {
   "cell_type": "code",
   "execution_count": 11,
   "metadata": {},
   "outputs": [
    {
     "name": "stdout",
     "output_type": "stream",
     "text": [
      "['account', 'broker', 'order', 'security', 'transaction']\n"
     ]
    }
   ],
   "source": [
    "# List all tables of the database\n",
    "all_tables = database.list_tables(\n",
    "    os.path.join(ROOT_DIR, 'app', 'backend', 'database.db')\n",
    ")\n",
    "print(all_tables)"
   ]
  },
  {
   "cell_type": "code",
   "execution_count": null,
   "metadata": {},
   "outputs": [],
   "source": []
  }
 ],
 "metadata": {
  "kernelspec": {
   "display_name": ".venv",
   "language": "python",
   "name": "python3"
  },
  "language_info": {
   "codemirror_mode": {
    "name": "ipython",
    "version": 3
   },
   "file_extension": ".py",
   "mimetype": "text/x-python",
   "name": "python",
   "nbconvert_exporter": "python",
   "pygments_lexer": "ipython3",
   "version": "3.10.12"
  }
 },
 "nbformat": 4,
 "nbformat_minor": 2
}
